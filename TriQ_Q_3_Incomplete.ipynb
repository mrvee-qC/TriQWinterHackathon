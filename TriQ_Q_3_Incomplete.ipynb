{
  "nbformat": 4,
  "nbformat_minor": 0,
  "metadata": {
    "colab": {
      "name": "QCWinter_Q3.ipynb",
      "provenance": []
    },
    "kernelspec": {
      "name": "python3",
      "display_name": "Python 3"
    }
  },
  "cells": [
    {
      "cell_type": "code",
      "metadata": {
        "colab": {
          "base_uri": "https://localhost:8080/",
          "height": 619
        },
        "id": "_DI9Q3YoSW0r",
        "outputId": "f6877973-8e45-4664-fea1-d652bb53d4ff"
      },
      "source": [
        "#L1_Norm_CPU\r\n",
        "%time\r\n",
        "\r\n",
        "import matplotlib.pyplot as plt \r\n",
        "import numpy as np\r\n",
        "from timeit import default_timer as timer\r\n",
        "from datetime import timedelta\r\n",
        "from __future__ import division\r\n",
        "from scipy import *\r\n",
        "from mpl_toolkits.mplot3d import Axes3D  # 3d images\r\n",
        "from matplotlib import cm                # colourmap\r\n",
        "from scipy import linalg  \r\n",
        "\r\n",
        "u_an = np.ones(41) \r\n",
        "\r\n",
        "u= np.array([ 1.00000e+00, -4.09500e+03, -2.81500e+03,  2.79050e+04, -4.73500e+03,\r\n",
        " -8.95990e+04,  3.28010e+04 ,1.79681e+05, -6.20590e+04, -2.47359e+05,\r\n",
        "  5.19940e+04,  2.37294e+05 ,-4.44600e+03, -1.51326e+05, -2.89260e+04,\r\n",
        "  5.59380e+04,  2.32980e+04 ,-7.42200e+03, -6.14200e+03, -1.02200e+03,\r\n",
        "  2.00000e+00,  2.00000e+00 ,2.00000e+00,  2.00000e+00,  2.00000e+00,\r\n",
        "  2.00000e+00,  2.00000e+00 ,2.00000e+00,  2.00000e+00,  2.00000e+00,\r\n",
        "  2.00000e+00,  2.00000e+00 ,2.00000e+00,  2.00000e+00,  2.00000e+00,\r\n",
        "  2.00000e+00,  2.00000e+00 ,2.00000e+00,  2.00000e+00,  2.00000e+00,\r\n",
        "  2.00000e+00,]) #Sample U from broken Q_\r\n",
        "\r\n",
        "dx = 2 / (41-1)    #numpy function ones()\r\n",
        "u_an0=np.ones(41)\r\n",
        "u_an0[int(0.5 / dx):] = 2\r\n",
        "x = np.linspace(0,2,41)\r\n",
        "t=10\r\n",
        "\r\n",
        "for time in range(10):\r\n",
        "  for i in range(1,41):\r\n",
        "    u_an[i]=u_an0[i]*(x[i]-time)\r\n",
        "print(u_an)\r\n",
        "\r\n",
        "plt.subplot(122)\r\n",
        "plt.plot(x,u_an)\r\n",
        "plt.xlabel('$x$')\r\n",
        "plt.ylabel('$u$')\r\n",
        "plt.title('$Analytical test$')\r\n",
        "plt.rcParams['font.size'] = 15\r\n",
        "\r\n",
        "#L1_Norm\r\n",
        "l1 = np.abs(np.subtract(u,u_an))\r\n",
        "print(l1)\r\n",
        "\r\n",
        "plt.subplot(122)\r\n",
        "plt.plot(x,l1)\r\n",
        "plt.xlabel('$x$')\r\n",
        "plt.ylabel('$l1$')\r\n",
        "plt.title('$L1\\_norm$')\r\n",
        "plt.rcParams['font.size'] = 15"
      ],
      "execution_count": 4,
      "outputs": [
        {
          "output_type": "stream",
          "text": [
            "CPU times: user 2 µs, sys: 0 ns, total: 2 µs\n",
            "Wall time: 4.77 µs\n",
            "[  1.    -8.95  -8.9   -8.85  -8.8   -8.75  -8.7   -8.65  -8.6   -8.55\n",
            " -17.   -16.9  -16.8  -16.7  -16.6  -16.5  -16.4  -16.3  -16.2  -16.1\n",
            " -16.   -15.9  -15.8  -15.7  -15.6  -15.5  -15.4  -15.3  -15.2  -15.1\n",
            " -15.   -14.9  -14.8  -14.7  -14.6  -14.5  -14.4  -14.3  -14.2  -14.1\n",
            " -14.  ]\n",
            "[0.0000000e+00 4.0860500e+03 2.8061000e+03 2.7913850e+04 4.7262000e+03\n",
            " 8.9590250e+04 3.2809700e+04 1.7968965e+05 6.2050400e+04 2.4735045e+05\n",
            " 5.2011000e+04 2.3731090e+05 4.4292000e+03 1.5130930e+05 2.8909400e+04\n",
            " 5.5954500e+04 2.3314400e+04 7.4057000e+03 6.1258000e+03 1.0059000e+03\n",
            " 1.8000000e+01 1.7900000e+01 1.7800000e+01 1.7700000e+01 1.7600000e+01\n",
            " 1.7500000e+01 1.7400000e+01 1.7300000e+01 1.7200000e+01 1.7100000e+01\n",
            " 1.7000000e+01 1.6900000e+01 1.6800000e+01 1.6700000e+01 1.6600000e+01\n",
            " 1.6500000e+01 1.6400000e+01 1.6300000e+01 1.6200000e+01 1.6100000e+01\n",
            " 1.6000000e+01]\n"
          ],
          "name": "stdout"
        },
        {
          "output_type": "stream",
          "text": [
            "/usr/local/lib/python3.6/dist-packages/ipykernel_launcher.py:48: MatplotlibDeprecationWarning: Adding an axes using the same arguments as a previous axes currently reuses the earlier instance.  In a future version, a new instance will always be created and returned.  Meanwhile, this warning can be suppressed, and the future behavior ensured, by passing a unique label to each axes instance.\n"
          ],
          "name": "stderr"
        },
        {
          "output_type": "display_data",
          "data": {
            "image/png": "[encoded data removed]",
            "text/plain": [
              "<Figure size 432x288 with 1 Axes>"
            ]
          },
          "metadata": {
            "tags": [],
            "needs_background": "light"
          }
        }
      ]
    },
    {
      "cell_type": "code",
      "metadata": {
        "id": "K51kLh40Sbcr"
      },
      "source": [
        ""
      ],
      "execution_count": null,
      "outputs": []
    }
  ]
}